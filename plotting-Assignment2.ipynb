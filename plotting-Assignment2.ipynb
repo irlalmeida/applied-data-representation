{
 "cells": [
  {
   "cell_type": "markdown",
   "metadata": {},
   "source": [
    "# Assignment 2\n",
    "\n",
    "Before working on this assignment please read these instructions fully. In the submission area, you will notice that you can click the link to **Preview the Grading** for each step of the assignment. This is the criteria that will be used for peer grading. Please familiarize yourself with the criteria before beginning the assignment.\n",
    "\n",
    "An NOAA dataset has been stored in the file `data/C2A2_data/BinnedCsvs_d400/fb441e62df2d58994928907a91895ec62c2c42e6cd075c2700843b89.csv`. This is the dataset to use for this assignment. Note: The data for this assignment comes from a subset of The National Centers for Environmental Information (NCEI) [Daily Global Historical Climatology Network](https://www1.ncdc.noaa.gov/pub/data/ghcn/daily/readme.txt) (GHCN-Daily). The GHCN-Daily is comprised of daily climate records from thousands of land surface stations across the globe.\n",
    "\n",
    "Each row in the assignment datafile corresponds to a single observation.\n",
    "\n",
    "The following variables are provided to you:\n",
    "\n",
    "* **id** : station identification code\n",
    "* **date** : date in YYYY-MM-DD format (e.g. 2012-01-24 = January 24, 2012)\n",
    "* **element** : indicator of element type\n",
    "    * TMAX : Maximum temperature (tenths of degrees C)\n",
    "    * TMIN : Minimum temperature (tenths of degrees C)\n",
    "* **value** : data value for element (tenths of degrees C)\n",
    "\n",
    "For this assignment, you must:\n",
    "\n",
    "1. Read the documentation and familiarize yourself with the dataset, then write some python code which returns a line graph of the record high and record low temperatures by day of the year over the period 2005-2014. The area between the record high and record low temperatures for each day should be shaded.\n",
    "2. Overlay a scatter of the 2015 data for any points (highs and lows) for which the ten year record (2005-2014) record high or record low was broken in 2015.\n",
    "3. Watch out for leap days (i.e. February 29th), it is reasonable to remove these points from the dataset for the purpose of this visualization.\n",
    "4. Make the visual nice! Leverage principles from the first module in this course when developing your solution. Consider issues such as legends, labels, and chart junk.\n",
    "\n",
    "The data you have been given is near **Ann Arbor, Michigan, United States**, and the stations the data comes from are shown on the map below."
   ]
  },
  {
   "cell_type": "code",
   "execution_count": null,
   "metadata": {
    "collapsed": true
   },
   "outputs": [],
   "source": [
    "#!pip install --upgrade pip\n",
    "#!pip install IPython\n"
   ]
  },
  {
   "cell_type": "code",
   "execution_count": null,
   "metadata": {},
   "outputs": [],
   "source": [
    "import pandas as pd\n",
    "import numpy as np\n",
    "import re\n",
    "import matplotlib as mpl \n",
    "import matplotlib.pyplot as plt\n",
    "import matplotlib.ticker as ticker\n",
    "import datetime as dt\n",
    "import matplotlib.dates as mdates\n"
   ]
  },
  {
   "cell_type": "code",
   "execution_count": null,
   "metadata": {
    "collapsed": false,
    "scrolled": true
   },
   "outputs": [],
   "source": [
    "values = pd.read_csv('/home/isabela.almeida/Documents/applied-data-representation/fb441e62df2d58994928907a91895ec62c2c42e6cd075c2700843b89.csv')\n",
    "#print(values.shape)\n",
    "values = values[~values['Date'].str.contains('02-29')]\n",
    "values = values[~values['Date'].str.contains('2015')]\n",
    "#print(values.shape)\n",
    "values['Data_Value'] = pd.to_numeric(values['Data_Value'])\n",
    "values['Date'] = pd.to_datetime(values['Date'])\n",
    "#values = values.drop(columns='ID')\n",
    "\n",
    "minimum = values[values['Element'] == 'TMIN']\n",
    "minimum['Data_Value'] = minimum['Data_Value'].div(10)\n",
    "maximum = values[values['Element'] == 'TMAX']\n",
    "maximum['Data_Value'] = maximum['Data_Value'].div(10)\n",
    "\n",
    "minimum['Date'] = minimum['Date'].dt.strftime('%m-%d')\n",
    "minimum.sort_values(by=['Data_Value'], ascending=True, inplace=True)\n",
    "minimum.drop_duplicates(subset=['Date'], keep='first', inplace=True)\n",
    "minimum.sort_values(by=['Date'], ascending=True, inplace=True)\n",
    "\n",
    "maximum['Date'] = maximum['Date'].dt.strftime('%m-%d')\n",
    "maximum.sort_values(by=['Data_Value'], ascending=False, inplace=True)\n",
    "maximum.drop_duplicates(subset=['Date'], keep='first', inplace=True)\n",
    "maximum.sort_values(by=['Date'], ascending=True, inplace=True)\n"
   ]
  },
  {
   "cell_type": "code",
   "execution_count": null,
   "metadata": {},
   "outputs": [],
   "source": [
    "scatter = pd.read_csv('/home/isabela.almeida/Documents/applied-data-representation/fb441e62df2d58994928907a91895ec62c2c42e6cd075c2700843b89.csv')\n",
    "scatter = scatter[~scatter['Date'].str.contains('02-29')]\n",
    "scatter['Data_Value'] = pd.to_numeric(scatter['Data_Value'])\n",
    "scatter['Date'] = pd.to_datetime(scatter['Date'])\n",
    "\n",
    "scatter_min = scatter[scatter['Element'] == 'TMIN']\n",
    "scatter_min['Data_Value'] = scatter_min['Data_Value'].div(10)\n",
    "scatter_min['Date'] = scatter_min['Date'].dt.strftime('%m-%d')\n",
    "scatter_min.sort_values(by=['Data_Value'], ascending=True, inplace=True)\n",
    "scatter_min.drop_duplicates(subset=['Date'], keep='first', inplace=True)\n",
    "scatter_min.sort_values(by=['Date'], ascending=True, inplace=True)\n",
    "\n",
    "scatter_max = scatter[scatter['Element'] == 'TMAX']\n",
    "scatter_max['Data_Value'] = scatter_max['Data_Value'].div(10)\n",
    "scatter_max['Date'] = scatter_max['Date'].dt.strftime('%m-%d')\n",
    "scatter_max.sort_values(by=['Data_Value'], ascending=False, inplace=True)\n",
    "scatter_max.drop_duplicates(subset=['Date'], keep='first', inplace=True)\n",
    "scatter_max.sort_values(by=['Date'], ascending=True, inplace=True)\n",
    "\n",
    "\n",
    "min_points = scatter_min.merge(minimum, how = 'outer' ,indicator=True).loc[lambda x : x['_merge']=='left_only']\n",
    "max_points = scatter_max.merge(maximum, how = 'outer' ,indicator=True).loc[lambda x : x['_merge']=='left_only']\n"
   ]
  },
  {
   "cell_type": "code",
   "execution_count": null,
   "metadata": {},
   "outputs": [],
   "source": [
    "observation_dates = maximum['Date'].array\n",
    "plt.figure()\n",
    "plt.gca().fill_between(maximum['Date'], maximum['Data_Value'], minimum['Data_Value'], facecolor='brown', alpha=0.25)\n",
    "plt.scatter(min_points['Date'], min_points['Data_Value'], c='#be4588')\n",
    "plt.scatter(max_points['Date'], max_points['Data_Value'], c='#de6a21')\n",
    "plt.plot(maximum['Date'], maximum['Data_Value'], '--b', maximum['Date'], minimum['Data_Value'], '-g')\n",
    "\n",
    "plt.show()\n"
   ]
  },
  {
   "cell_type": "code",
   "execution_count": null,
   "metadata": {},
   "outputs": [],
   "source": []
  },
  {
   "cell_type": "code",
   "execution_count": null,
   "metadata": {},
   "outputs": [],
   "source": []
  }
 ],
 "metadata": {
  "kernelspec": {
   "display_name": "Python 3.8.10 64-bit",
   "language": "python",
   "name": "python3"
  },
  "language_info": {
   "codemirror_mode": {
    "name": "ipython",
    "version": 3
   },
   "file_extension": ".py",
   "mimetype": "text/x-python",
   "name": "python",
   "nbconvert_exporter": "python",
   "pygments_lexer": "ipython3",
   "version": "3.8.10"
  },
  "vscode": {
   "interpreter": {
    "hash": "916dbcbb3f70747c44a77c7bcd40155683ae19c65e1c03b4aa3499c5328201f1"
   }
  }
 },
 "nbformat": 4,
 "nbformat_minor": 1
}
