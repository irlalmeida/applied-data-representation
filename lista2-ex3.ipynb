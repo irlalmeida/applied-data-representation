{
 "cells": [
  {
   "cell_type": "code",
   "execution_count": 8,
   "metadata": {},
   "outputs": [],
   "source": [
    "import pandas as pd\n",
    "import numpy as np\n",
    "import matplotlib\n",
    "import matplotlib.pyplot as plt\n",
    "\n",
    "iris_db = pd.read_csv(\"/home/isabela.almeida/Documents/tableConvert.com_tz0ucm.csv\")"
   ]
  },
  {
   "cell_type": "code",
   "execution_count": 9,
   "metadata": {},
   "outputs": [
    {
     "name": "stdout",
     "output_type": "stream",
     "text": [
      "       sepal.length  sepal.width  petal.length  petal.width\n",
      "count    150.000000   150.000000    150.000000   150.000000\n",
      "mean       5.843333     3.057333      3.758000     1.199333\n",
      "std        0.828066     0.435866      1.765298     0.762238\n",
      "min        4.300000     2.000000      1.000000     0.100000\n",
      "25%        5.100000     2.800000      1.600000     0.300000\n",
      "50%        5.800000     3.000000      4.350000     1.300000\n",
      "75%        6.400000     3.300000      5.100000     1.800000\n",
      "max        7.900000     4.400000      6.900000     2.500000\n",
      "0.1887128888888889\n",
      "0.5771328888888888\n",
      "0.1420881926740606\n",
      "0.6334290949712278\n"
     ]
    }
   ],
   "source": [
    "print(iris_db.describe())\n",
    "print(np.var(iris_db['sepal.width']))\n",
    "print(np.var(iris_db['petal.width']))\n",
    "print(np.std(iris_db['sepal.width'])/np.mean(iris_db['sepal.width']))\n",
    "print(np.std(iris_db['petal.width'])/np.mean(iris_db['petal.width']))"
   ]
  },
  {
   "cell_type": "code",
   "execution_count": 17,
   "metadata": {},
   "outputs": [
    {
     "data": {
      "text/plain": [
       "{'whiskers': [<matplotlib.lines.Line2D at 0x7f20bf5da640>,\n",
       "  <matplotlib.lines.Line2D at 0x7f20bf5da910>],\n",
       " 'caps': [<matplotlib.lines.Line2D at 0x7f20bf5dac10>,\n",
       "  <matplotlib.lines.Line2D at 0x7f20bf5daee0>],\n",
       " 'boxes': [<matplotlib.lines.Line2D at 0x7f20bf5da490>],\n",
       " 'medians': [<matplotlib.lines.Line2D at 0x7f20bf9551f0>],\n",
       " 'fliers': [<matplotlib.lines.Line2D at 0x7f20bf9554c0>],\n",
       " 'means': []}"
      ]
     },
     "execution_count": 17,
     "metadata": {},
     "output_type": "execute_result"
    },
    {
     "data": {
      "image/png": "[encoded data removed]",
      "text/plain": [
       "<Figure size 432x288 with 1 Axes>"
      ]
     },
     "metadata": {
      "needs_background": "light"
     },
     "output_type": "display_data"
    }
   ],
   "source": [
    "matplotlib.pyplot.boxplot(iris_db['sepal.width'])"
   ]
  },
  {
   "cell_type": "code",
   "execution_count": 18,
   "metadata": {},
   "outputs": [
    {
     "data": {
      "text/plain": [
       "{'whiskers': [<matplotlib.lines.Line2D at 0x7f20bf58b8e0>,\n",
       "  <matplotlib.lines.Line2D at 0x7f20bf58bbb0>],\n",
       " 'caps': [<matplotlib.lines.Line2D at 0x7f20bf58be20>,\n",
       "  <matplotlib.lines.Line2D at 0x7f20bf59b130>],\n",
       " 'boxes': [<matplotlib.lines.Line2D at 0x7f20bf58b670>],\n",
       " 'medians': [<matplotlib.lines.Line2D at 0x7f20bf59b400>],\n",
       " 'fliers': [<matplotlib.lines.Line2D at 0x7f20bf59b6d0>],\n",
       " 'means': []}"
      ]
     },
     "execution_count": 18,
     "metadata": {},
     "output_type": "execute_result"
    },
    {
     "data": {
      "image/png": "[encoded data removed]",
      "text/plain": [
       "<Figure size 432x288 with 1 Axes>"
      ]
     },
     "metadata": {
      "needs_background": "light"
     },
     "output_type": "display_data"
    }
   ],
   "source": [
    "matplotlib.pyplot.boxplot(iris_db['petal.width'])"
   ]
  },
  {
   "cell_type": "code",
   "execution_count": null,
   "metadata": {},
   "outputs": [],
   "source": []
  }
 ],
 "metadata": {
  "interpreter": {
   "hash": "916dbcbb3f70747c44a77c7bcd40155683ae19c65e1c03b4aa3499c5328201f1"
  },
  "kernelspec": {
   "display_name": "Python 3.8.10 64-bit",
   "language": "python",
   "name": "python3"
  },
  "language_info": {
   "codemirror_mode": {
    "name": "ipython",
    "version": 3
   },
   "file_extension": ".py",
   "mimetype": "text/x-python",
   "name": "python",
   "nbconvert_exporter": "python",
   "pygments_lexer": "ipython3",
   "version": "3.8.10"
  },
  "orig_nbformat": 4
 },
 "nbformat": 4,
 "nbformat_minor": 2
}
